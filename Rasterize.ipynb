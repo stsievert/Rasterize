{
 "metadata": {
  "name": "Rasterize"
 },
 "nbformat": 3,
 "nbformat_minor": 0,
 "worksheets": [
  {
   "cells": [
    {
     "cell_type": "markdown",
     "metadata": {},
     "source": [
      "This is a sample of converting an image to circles. To do this, we take the image in black and white then write it to a larger image where we write the circles. This code is not exact."
     ]
    },
    {
     "cell_type": "code",
     "collapsed": false,
     "input": [
      "from __future__ import division\n",
      "from PIL import Image\n",
      "import numpy as np\n",
      "import pudb as pdb\n",
      "from numpy import *\n",
      "from pylab import *\n",
      "\n",
      "\n",
      "# CHANGE THESE. THEY'RE PSUEDO-ARGUMENTS\n",
      "\n",
      "# the file has to be one of 'len_std.jpg'\n",
      "\n",
      "def main(COLORS=15):\n",
      "    N = 1.8*COLORS\n",
      "    FILE = 'len_std.jpg'\n",
      "    pix = np.array(Image.open(FILE))\n",
      "    bw = np.mean(pix, axis=2)\n",
      "    # bw is now the image in black and white\n",
      "\n",
      "    w, l = bw.shape\n",
      "    new = np.zeros((N*w, N*l))\n",
      "\n",
      "    # each pixel's \"color\" = radius\n",
      "    # we use 100*shape to get an approximation of a ball\n",
      "    i = np.arange(0, w)\n",
      "    j = np.arange(0, l)\n",
      "\n",
      "\n",
      "    for x in i:\n",
      "        for y in j:\n",
      "            for k in range(0, COLORS):\n",
      "                if (bw[y,x]>255*k/COLORS) & (bw[y,x]<=255*(k+1)/COLORS):\n",
      "                    radius = k+1\n",
      "\n",
      "            new[N*y:N*y+N, N*x:N*x+N] = makecircle2(new[N*y:N*y+N,\n",
      "                N*x:N*x+N], radius)\n",
      "    im = Image.fromarray(new)\n",
      "    return im\n",
      "\n",
      "\n",
      "def rasterize(pixel):\n",
      "    print pixel.shape[0]\n",
      "    print pixel.shape[1]\n",
      "    pdb.set_trace()\n",
      "    for y in range(0,pixel.shape[0]-1):\n",
      "        for x in range(0, pixel.shape[1]-1):\n",
      "            oldpixel = pixel[y, x]\n",
      "            newpixel = find_closest_palette_color(oldpixel)\n",
      "            quant_error = oldpixel - newpixel\n",
      "            print quant_error\n",
      "            pixel[y, x] = newpixel\n",
      "            pixel[y,   x+1] = pixel[y,   x+1] + 7/16 * quant_error\n",
      "            pixel[y+1, x-1] = pixel[y+1, x-1] + 3/16 * quant_error\n",
      "            pixel[y+1,   x] = pixel[y+1,   x] + 5/16 * quant_error\n",
      "            pixel[y+1, x+1] = pixel[y+1, x+1] + 1/16 * quant_error\n",
      "    return pixel\n",
      "\n",
      "def makecircle2(pixels, radius):\n",
      "    \"\"\" assumes pixels is a 100x100 array. makes a circle of radius \"\"\"\n",
      "    x = np.arange(-pixels.shape[0]//2, pixels.shape[0]//2)\n",
      "    y = np.arange(-pixels.shape[1]//2, pixels.shape[1]//2)\n",
      "    x, y = np.meshgrid(x, y)\n",
      "    circle = np.zeros((len(y), len(x)))\n",
      "    i = radius < np.sqrt(np.power(x, 2) + np.power(y, 2))\n",
      "    try: circle[i] = 255\n",
      "    except: f = 0\n",
      "    \n",
      "    return circle\n",
      "\n",
      "\n",
      "im5 = main(COLORS=5)\n",
      "im10 = main(COLORS=10)\n",
      "im20 = main(COLORS=20)\n",
      "im30 = main(COLORS=30)\n",
      "imshow(im5)\n",
      "\n",
      "from IPython.core.display import Image\n",
      "plt.savefig('notebook.png')\n",
      "Image(filename='notebook.png')\n"
     ],
     "language": "python",
     "metadata": {},
     "outputs": [
      {
       "ename": "AttributeError",
       "evalue": "type object 'Image' has no attribute 'open'",
       "output_type": "pyerr",
       "traceback": [
        "\u001b[0;31m---------------------------------------------------------------------------\u001b[0m\n\u001b[0;31mAttributeError\u001b[0m                            Traceback (most recent call last)",
        "\u001b[0;32m<ipython-input-29-26b7da3aa341>\u001b[0m in \u001b[0;36m<module>\u001b[0;34m()\u001b[0m\n\u001b[1;32m     69\u001b[0m \u001b[0;34m\u001b[0m\u001b[0m\n\u001b[1;32m     70\u001b[0m \u001b[0;32mfrom\u001b[0m \u001b[0mIPython\u001b[0m\u001b[0;34m.\u001b[0m\u001b[0mcore\u001b[0m\u001b[0;34m.\u001b[0m\u001b[0mdisplay\u001b[0m \u001b[0;32mimport\u001b[0m \u001b[0mImage\u001b[0m\u001b[0;34m\u001b[0m\u001b[0m\n\u001b[0;32m---> 71\u001b[0;31m \u001b[0mim5\u001b[0m \u001b[0;34m=\u001b[0m \u001b[0mmain\u001b[0m\u001b[0;34m(\u001b[0m\u001b[0mCOLORS\u001b[0m\u001b[0;34m=\u001b[0m\u001b[0;36m5\u001b[0m\u001b[0;34m)\u001b[0m\u001b[0;34m\u001b[0m\u001b[0m\n\u001b[0m\u001b[1;32m     72\u001b[0m \u001b[0mim10\u001b[0m \u001b[0;34m=\u001b[0m \u001b[0mmain\u001b[0m\u001b[0;34m(\u001b[0m\u001b[0mCOLORS\u001b[0m\u001b[0;34m=\u001b[0m\u001b[0;36m10\u001b[0m\u001b[0;34m)\u001b[0m\u001b[0;34m\u001b[0m\u001b[0m\n\u001b[1;32m     73\u001b[0m \u001b[0mim20\u001b[0m \u001b[0;34m=\u001b[0m \u001b[0mmain\u001b[0m\u001b[0;34m(\u001b[0m\u001b[0mCOLORS\u001b[0m\u001b[0;34m=\u001b[0m\u001b[0;36m20\u001b[0m\u001b[0;34m)\u001b[0m\u001b[0;34m\u001b[0m\u001b[0m\n",
        "\u001b[0;32m<ipython-input-29-26b7da3aa341>\u001b[0m in \u001b[0;36mmain\u001b[0;34m(COLORS)\u001b[0m\n\u001b[1;32m     14\u001b[0m     \u001b[0mN\u001b[0m \u001b[0;34m=\u001b[0m \u001b[0;36m1.8\u001b[0m\u001b[0;34m*\u001b[0m\u001b[0mCOLORS\u001b[0m\u001b[0;34m\u001b[0m\u001b[0m\n\u001b[1;32m     15\u001b[0m     \u001b[0mFILE\u001b[0m \u001b[0;34m=\u001b[0m \u001b[0;34m'len_std.jpg'\u001b[0m\u001b[0;34m\u001b[0m\u001b[0m\n\u001b[0;32m---> 16\u001b[0;31m     \u001b[0mpix\u001b[0m \u001b[0;34m=\u001b[0m \u001b[0mnp\u001b[0m\u001b[0;34m.\u001b[0m\u001b[0marray\u001b[0m\u001b[0;34m(\u001b[0m\u001b[0mImage\u001b[0m\u001b[0;34m.\u001b[0m\u001b[0mopen\u001b[0m\u001b[0;34m(\u001b[0m\u001b[0mFILE\u001b[0m\u001b[0;34m)\u001b[0m\u001b[0;34m)\u001b[0m\u001b[0;34m\u001b[0m\u001b[0m\n\u001b[0m\u001b[1;32m     17\u001b[0m     \u001b[0mbw\u001b[0m \u001b[0;34m=\u001b[0m \u001b[0mnp\u001b[0m\u001b[0;34m.\u001b[0m\u001b[0mmean\u001b[0m\u001b[0;34m(\u001b[0m\u001b[0mpix\u001b[0m\u001b[0;34m,\u001b[0m \u001b[0maxis\u001b[0m\u001b[0;34m=\u001b[0m\u001b[0;36m2\u001b[0m\u001b[0;34m)\u001b[0m\u001b[0;34m\u001b[0m\u001b[0m\n\u001b[1;32m     18\u001b[0m     \u001b[0;31m# bw is now the image in black and white\u001b[0m\u001b[0;34m\u001b[0m\u001b[0;34m\u001b[0m\u001b[0m\n",
        "\u001b[0;31mAttributeError\u001b[0m: type object 'Image' has no attribute 'open'"
       ]
      }
     ],
     "prompt_number": 29
    },
    {
     "cell_type": "code",
     "collapsed": false,
     "input": [
      "from pylab import *\n",
      "from IPython.core.display import Image\n",
      "imshow(im5)\n",
      "imshow(im10)\n",
      "imshow(im20)\n",
      "imshow(im30)\n",
      "plt.savefig('notebook.png')\n",
      "Image(filename='notebook.png')"
     ],
     "language": "python",
     "metadata": {},
     "outputs": [
      {
       "ename": "NameError",
       "evalue": "name 'im5' is not defined",
       "output_type": "pyerr",
       "traceback": [
        "\u001b[0;31m---------------------------------------------------------------------------\u001b[0m\n\u001b[0;31mNameError\u001b[0m                                 Traceback (most recent call last)",
        "\u001b[0;32m<ipython-input-10-42b9bc7de6ac>\u001b[0m in \u001b[0;36m<module>\u001b[0;34m()\u001b[0m\n\u001b[1;32m      1\u001b[0m \u001b[0;32mfrom\u001b[0m \u001b[0mpylab\u001b[0m \u001b[0;32mimport\u001b[0m \u001b[0;34m*\u001b[0m\u001b[0;34m\u001b[0m\u001b[0m\n\u001b[1;32m      2\u001b[0m \u001b[0;32mfrom\u001b[0m \u001b[0mIPython\u001b[0m\u001b[0;34m.\u001b[0m\u001b[0mcore\u001b[0m\u001b[0;34m.\u001b[0m\u001b[0mdisplay\u001b[0m \u001b[0;32mimport\u001b[0m \u001b[0mImage\u001b[0m\u001b[0;34m\u001b[0m\u001b[0m\n\u001b[0;32m----> 3\u001b[0;31m \u001b[0mimshow\u001b[0m\u001b[0;34m(\u001b[0m\u001b[0mim5\u001b[0m\u001b[0;34m)\u001b[0m\u001b[0;34m\u001b[0m\u001b[0m\n\u001b[0m\u001b[1;32m      4\u001b[0m \u001b[0mimshow\u001b[0m\u001b[0;34m(\u001b[0m\u001b[0mim10\u001b[0m\u001b[0;34m)\u001b[0m\u001b[0;34m\u001b[0m\u001b[0m\n\u001b[1;32m      5\u001b[0m \u001b[0mimshow\u001b[0m\u001b[0;34m(\u001b[0m\u001b[0mim20\u001b[0m\u001b[0;34m)\u001b[0m\u001b[0;34m\u001b[0m\u001b[0m\n",
        "\u001b[0;31mNameError\u001b[0m: name 'im5' is not defined"
       ]
      }
     ],
     "prompt_number": 10
    },
    {
     "cell_type": "code",
     "collapsed": false,
     "input": [],
     "language": "python",
     "metadata": {},
     "outputs": []
    }
   ],
   "metadata": {}
  }
 ]
}