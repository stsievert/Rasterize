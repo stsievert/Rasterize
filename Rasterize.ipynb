{
 "metadata": {
  "name": "Rasterize"
 },
 "nbformat": 3,
 "nbformat_minor": 0,
 "worksheets": [
  {
   "cells": [
    {
     "cell_type": "markdown",
     "metadata": {},
     "source": [
      "This is a sample of converting an image to circles. To do this, we take the image in black and white then write it to a larger image where we write the circles. This code is not exact."
     ]
    },
    {
     "cell_type": "code",
     "collapsed": false,
     "input": [
      "from __future__ import division\n",
      "from PIL import Image\n",
      "import numpy as np\n",
      "import pudb as pdb\n",
      "from numpy import *\n",
      "\n",
      "# CHANGE THESE. THEY'RE PSUEDO-ARGUMENTS\n",
      "COLORS = 15            # how many different sized circles you have\n",
      "FILE = 'len_std.jpg'\n",
      "# the file has to be one of 'len_std.jpg'\n",
      "\n",
      "def main():\n",
      "    N = 1.8*COLORS\n",
      "    pix = np.array(Image.open(FILE))\n",
      "    bw = np.mean(pix, axis=2)\n",
      "    # bw is now the image in black and white\n",
      "\n",
      "    w, l = bw.shape\n",
      "    new = np.zeros((N*w, N*l))\n",
      "\n",
      "    # each pixel's \"color\" = radius\n",
      "    # we use 100*shape to get an approximation of a ball\n",
      "    i = np.arange(0, w)\n",
      "    j = np.arange(0, l)\n",
      "\n",
      "\n",
      "    for x in i:\n",
      "        for y in j:\n",
      "            for k in range(0, COLORS):\n",
      "                if (bw[y,x]>255*k/COLORS) & (bw[y,x]<=255*(k+1)/COLORS):\n",
      "                    radius = k+1\n",
      "\n",
      "            new[N*y:N*y+N, N*x:N*x+N] = makecircle2(new[N*y:N*y+N,\n",
      "                N*x:N*x+N], radius)\n",
      "    im = Image.fromarray(new)\n",
      "    return im\n",
      "\n",
      "\n",
      "def rasterize(pixel):\n",
      "    print pixel.shape[0]\n",
      "    print pixel.shape[1]\n",
      "    pdb.set_trace()\n",
      "    for y in range(0,pixel.shape[0]-1):\n",
      "        for x in range(0, pixel.shape[1]-1):\n",
      "            oldpixel = pixel[y, x]\n",
      "            newpixel = find_closest_palette_color(oldpixel)\n",
      "            quant_error = oldpixel - newpixel\n",
      "            print quant_error\n",
      "            pixel[y, x] = newpixel\n",
      "            pixel[y,   x+1] = pixel[y,   x+1] + 7/16 * quant_error\n",
      "            pixel[y+1, x-1] = pixel[y+1, x-1] + 3/16 * quant_error\n",
      "            pixel[y+1,   x] = pixel[y+1,   x] + 5/16 * quant_error\n",
      "            pixel[y+1, x+1] = pixel[y+1, x+1] + 1/16 * quant_error\n",
      "    return pixel\n",
      "\n",
      "def makecircle2(pixels, radius):\n",
      "    \"\"\" assumes pixels is a 100x100 array. makes a circle of radius \"\"\"\n",
      "    x = np.arange(-pixels.shape[0]//2, pixels.shape[0]//2)\n",
      "    y = np.arange(-pixels.shape[1]//2, pixels.shape[1]//2)\n",
      "    x, y = np.meshgrid(x, y)\n",
      "    circle = np.zeros((len(y), len(x)))\n",
      "    i = radius < np.sqrt(np.power(x, 2) + np.power(y, 2))\n",
      "    try: circle[i] = 255\n",
      "    except: f = 0\n",
      "    \n",
      "    return circle\n",
      "main() "
     ],
     "language": "python",
     "metadata": {},
     "outputs": [
      {
       "output_type": "pyout",
       "prompt_number": 2,
       "text": [
        "<PIL.Image.Image image mode=F size=2700x2700 at 0x108107758>"
       ]
      }
     ],
     "prompt_number": 2
    },
    {
     "cell_type": "code",
     "collapsed": false,
     "input": [
      "from pylab import *\n",
      "imshow(_2)\n",
      "plt.show()"
     ],
     "language": "python",
     "metadata": {},
     "outputs": [],
     "prompt_number": 7
    },
    {
     "cell_type": "code",
     "collapsed": false,
     "input": [],
     "language": "python",
     "metadata": {},
     "outputs": []
    }
   ],
   "metadata": {}
  }
 ]
}